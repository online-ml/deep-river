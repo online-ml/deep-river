{
  "cells": [
    {
      "cell_type": "markdown",
      "metadata": {},
      "source": [
        "# Model Persistence\n",
        "Save and load pre-trained models\n",
        "\n",
        "This example demonstrates how to save trained deep-river models to disk and load them later for continued training or inference."
      ]
    },
    {
      "cell_type": "code",
      "execution_count": null,
      "metadata": {},
      "outputs": [],
      "source": [
        "import torch\n",
        "import torch.nn as nn\n",
        "from river import datasets, metrics\n",
        "import tempfile\n",
        "import os\n",
        "from deep_river.classification import Classifier\n",
        "from deep_river import base"
      ]
    },
    {
      "cell_type": "markdown",
      "metadata": {},
      "source": [
        "## Create and Train a Classification Model\n",
        "\n",
        "We will create a simple neural network for phishing detection and train it on some data."
      ]
    },
    {
      "cell_type": "code",
      "execution_count": null,
      "metadata": {},
      "outputs": [],
      "source": [
        "dataset = datasets.Phishing()\n",
        "metric = metrics.Accuracy()\n",
        "\n",
        "class SimpleNet(nn.Module):\n",
        "    def __init__(self, n_features):\n",
        "        super().__init__()\n",
        "        self.dense0 = nn.Linear(n_features, 5)\n",
        "        self.nonlin = nn.ReLU()\n",
        "        self.dense1 = nn.Linear(5, 2)\n",
        "        self.softmax = nn.Softmax(dim=-1)\n",
        "\n",
        "    def forward(self, X, **kwargs):\n",
        "        X = self.nonlin(self.dense0(X))\n",
        "        X = self.nonlin(self.dense1(X))\n",
        "        X = self.softmax(X)\n",
        "        return X\n",
        "\n",
        "model = Classifier(\n",
        "    module=SimpleNet(n_features=9),\n",
        "    loss_fn=\"binary_cross_entropy\",\n",
        "    optimizer_fn=\"adam\"\n",
        ")\n",
        "model"
      ]
    },
    {
      "cell_type": "markdown",
      "metadata": {},
      "source": [
        "Train the model on 1000 samples from the phishing dataset:"
      ]
    },
    {
      "cell_type": "code",
      "execution_count": null,
      "metadata": {},
      "outputs": [],
      "source": [
        "# Train the model\n",
        "for x, y in dataset.take(1000):\n",
        "    y_pred = model.predict_one(x)\n",
        "    if y_pred is not None:\n",
        "        metric.update(y, y_pred)\n",
        "    model.learn_one(x, y)\n",
        "    \n",
        "print(f\"Accuracy: {metric.get():.3f}\")"
      ]
    },
    {
      "cell_type": "markdown",
      "metadata": {},
      "source": [
        "## Save the Trained Model\n",
        "\n",
        "Now we will save the trained model to disk using the built-in save functionality:"
      ]
    },
    {
      "cell_type": "code",
      "execution_count": null,
      "metadata": {},
      "outputs": [],
      "source": [
        "# Save the model\n",
        "temp_dir = tempfile.mkdtemp()\n",
        "model_path = os.path.join(temp_dir, \"classifier.pkl\")\n",
        "\n",
        "model.save(model_path)\n",
        "print(f\"Model saved to: {model_path}\")"
      ]
    },
    {
      "cell_type": "markdown",
      "metadata": {},
      "source": [
        "## Load the Model and Test\n",
        "\n",
        "Load the saved model and verify it works correctly:"
      ]
    },
    {
      "cell_type": "code",
      "execution_count": null,
      "metadata": {},
      "outputs": [],
      "source": [
        "# Load the model\n",
        "loaded_model = base.load_model(model_path)\n",
        "print(f\"Model loaded: {type(loaded_model).__name__}\")\n",
        "\n",
        "# Test prediction\n",
        "test_sample = {\"empty_server_form_handler\": 0.0, \"popup_window\": 0.0, \"https\": 0.0, \n",
        "               \"request_from_other_domain\": 0.0, \"anchor_from_other_domain\": 0.0, \n",
        "               \"is_popular\": 0.5, \"contains_submit_button\": 1.0, \"iframe\": 0.0, \n",
        "               \"is_from_cache\": 0.0}\n",
        "\n",
        "prediction = loaded_model.predict_one(test_sample)\n",
        "print(f\"Prediction: {prediction}\")"
      ]
    },
    {
      "cell_type": "markdown",
      "metadata": {},
      "source": [
        "## Cleanup\n",
        "\n",
        "Clean up temporary files:"
      ]
    },
    {
      "cell_type": "code",
      "execution_count": null,
      "metadata": {},
      "outputs": [],
      "source": [
        "# Clean up\n",
        "import shutil\n",
        "shutil.rmtree(temp_dir)\n",
        "print(\"Cleanup completed\")"
      ]
    }
  ],
  "metadata": {
    "kernelspec": {
      "display_name": "Python 3",
      "language": "python",
      "name": "python3"
    },
    "language_info": {
      "codemirror_mode": {
        "name": "ipython",
        "version": 3
      },
      "file_extension": ".py",
      "mimetype": "text/x-python",
      "name": "python",
      "nbconvert_exporter": "python",
      "pygments_lexer": "ipython3",
      "version": "3.9.0"
    }
  },
  "nbformat": 4,
  "nbformat_minor": 4
}