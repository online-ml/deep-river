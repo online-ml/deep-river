{
 "cells": [
  {
   "cell_type": "markdown",
   "metadata": {},
   "source": [
    "# Probability weighted Autoencoder\n",
    "A Probability-Weighted Autoencoder (PWAE) is a variant of the traditional autoencoder designed to incorporate probabilistic weighting into the reconstruction process. Unlike standard autoencoders that treat all inputs equally, a PWAE assigns different importance to each data point based on its probability distribution, enhancing its ability to detect anomalies and rare events. The model minimizes a weighted reconstruction loss, ensuring that more critical samples (e.g., minority class instances like fraud) contribute more to learning."
   ]
  },
  {
   "cell_type": "code",
   "execution_count": 1,
   "metadata": {
    "execution": {
     "iopub.execute_input": "2025-03-29T09:33:49.077359Z",
     "iopub.status.busy": "2025-03-29T09:33:49.076989Z",
     "iopub.status.idle": "2025-03-29T09:33:53.520541Z",
     "shell.execute_reply": "2025-03-29T09:33:53.519421Z"
    }
   },
   "outputs": [],
   "source": [
    "from river import compose, preprocessing, metrics, datasets\n",
    "from deep_river.anomaly import ProbabilityWeightedAutoencoder\n",
    "from torch import nn, manual_seed\n",
    "import numpy as np\n",
    "import matplotlib.pyplot as plt\n",
    "import pandas as pd"
   ]
  },
  {
   "cell_type": "markdown",
   "metadata": {},
   "source": [
    "## Analyse\n",
    "This code initializes a reproducible environment and loads a subset of the CreditCard dataset, selecting 5000 transactions for analysis. It then converts the dataset into a Pandas DataFrame and generates a summary report using TableReport(), which provides an overview of the dataset's structure, feature distributions, and potential missing values. This step helps to understand the data before applying preprocessing or modeling techniques."
   ]
  },
  {
   "cell_type": "code",
   "execution_count": 2,
   "metadata": {
    "execution": {
     "iopub.execute_input": "2025-03-29T09:33:53.524061Z",
     "iopub.status.busy": "2025-03-29T09:33:53.523636Z",
     "iopub.status.idle": "2025-03-29T09:33:53.530357Z",
     "shell.execute_reply": "2025-03-29T09:33:53.529645Z"
    }
   },
   "outputs": [],
   "source": [
    "_ = manual_seed(42)\n",
    "dataset = datasets.CreditCard().take(5000)"
   ]
  },
  {
   "cell_type": "markdown",
   "metadata": {},
   "source": [
    "## Model Creation\n",
    "While the model stays the same as the fully connected autoencoder, the wrapper class changes to the probability weighted autoencoder. "
   ]
  },
  {
   "cell_type": "code",
   "execution_count": 3,
   "metadata": {
    "execution": {
     "iopub.execute_input": "2025-03-29T09:33:53.532989Z",
     "iopub.status.busy": "2025-03-29T09:33:53.532737Z",
     "iopub.status.idle": "2025-03-29T09:33:54.533167Z",
     "shell.execute_reply": "2025-03-29T09:33:54.532587Z"
    }
   },
   "outputs": [
    {
     "name": "stderr",
     "output_type": "stream",
     "text": [
      "/Users/cedrickulbach/Documents/Projects/deep-river/deep_river/anomaly/probability_weighted_ae.py:201: UserWarning: This is deprecated and will be removed in future releases. Please instead use the AutoencoderInitialized class and initialize the module beforehand\n",
      "  warnings.warn(\n"
     ]
    },
    {
     "data": {
      "text/html": [
       "<div><div class=\"river-component river-pipeline\"><details class=\"river-component river-estimator\"><summary class=\"river-summary\"><pre class=\"river-estimator-name\">MinMaxScaler</pre></summary><code class=\"river-estimator-params\">MinMaxScaler ()\n",
       "</code></details><details class=\"river-component river-estimator\"><summary class=\"river-summary\"><pre class=\"river-estimator-name\">ProbabilityWeightedAutoencoderInitialized</pre></summary><code class=\"river-estimator-params\">ProbabilityWeightedAutoencoderInitialized (\n",
       "  module=MyAutoEncoder(\n",
       "  (linear1): Linear(in_features=30, out_features=3, bias=True)\n",
       "  (nonlin): LeakyReLU(negative_slope=0.01)\n",
       "  (linear2): Linear(in_features=3, out_features=30, bias=True)\n",
       "  (sigmoid): Sigmoid()\n",
       ")\n",
       "  loss_fn=\"mse\"\n",
       "  optimizer_fn=\"sgd\"\n",
       "  lr=0.005\n",
       "  device=\"cpu\"\n",
       "  seed=42\n",
       "  skip_threshold=0.9\n",
       "  window_size=250\n",
       ")\n",
       "</code></details></div><style scoped>\n",
       ".river-estimator {\n",
       "    padding: 1em;\n",
       "    border-style: solid;\n",
       "    background: white;\n",
       "    max-width: max-content;\n",
       "}\n",
       "\n",
       ".river-pipeline {\n",
       "    display: flex;\n",
       "    flex-direction: column;\n",
       "    align-items: center;\n",
       "    background: linear-gradient(#000, #000) no-repeat center / 1.5px 100%;\n",
       "}\n",
       "\n",
       ".river-union {\n",
       "    display: flex;\n",
       "    flex-direction: row;\n",
       "    align-items: center;\n",
       "    justify-content: center;\n",
       "    padding: 1em;\n",
       "    border-style: solid;\n",
       "    background: white;\n",
       "}\n",
       "\n",
       ".river-wrapper {\n",
       "    display: flex;\n",
       "    flex-direction: column;\n",
       "    align-items: center;\n",
       "    justify-content: center;\n",
       "    padding: 1em;\n",
       "    border-style: solid;\n",
       "    background: white;\n",
       "}\n",
       "\n",
       ".river-wrapper > .river-estimator {\n",
       "    margin-top: 1em;\n",
       "}\n",
       "\n",
       "/* Vertical spacing between steps */\n",
       "\n",
       ".river-component + .river-component {\n",
       "    margin-top: 2em;\n",
       "}\n",
       "\n",
       ".river-union > .river-estimator {\n",
       "    margin-top: 0;\n",
       "}\n",
       "\n",
       ".river-union > .river-component {\n",
       "    margin-top: 0;\n",
       "}\n",
       "\n",
       ".river-union > .pipeline {\n",
       "    margin-top: 0;\n",
       "}\n",
       "\n",
       "/* Spacing within a union of estimators */\n",
       "\n",
       ".river-union > .river-component + .river-component {\n",
       "    margin-left: 1em;\n",
       "}\n",
       "\n",
       "/* Typography */\n",
       "\n",
       ".river-estimator-params {\n",
       "    display: block;\n",
       "    white-space: pre-wrap;\n",
       "    font-size: 110%;\n",
       "    margin-top: 1em;\n",
       "}\n",
       "\n",
       ".river-estimator > .river-estimator-params,\n",
       ".river-wrapper > .river-details > river-estimator-params {\n",
       "    background-color: white !important;\n",
       "}\n",
       "\n",
       ".river-wrapper > .river-details {\n",
       "    margin-bottom: 1em;\n",
       "}\n",
       "\n",
       ".river-estimator-name {\n",
       "    display: inline;\n",
       "    margin: 0;\n",
       "    font-size: 110%;\n",
       "}\n",
       "\n",
       "/* Toggle */\n",
       "\n",
       ".river-summary {\n",
       "    display: flex;\n",
       "    align-items:center;\n",
       "    cursor: pointer;\n",
       "}\n",
       "\n",
       ".river-summary > div {\n",
       "    width: 100%;\n",
       "}\n",
       "</style></div>"
      ],
      "text/plain": [
       "Pipeline (\n",
       "  MinMaxScaler (),\n",
       "  ProbabilityWeightedAutoencoderInitialized (\n",
       "    module=MyAutoEncoder(\n",
       "    (linear1): Linear(in_features=30, out_features=3, bias=True)\n",
       "    (nonlin): LeakyReLU(negative_slope=0.01)\n",
       "    (linear2): Linear(in_features=3, out_features=30, bias=True)\n",
       "    (sigmoid): Sigmoid()\n",
       "  )\n",
       "    loss_fn=\"mse\"\n",
       "    optimizer_fn=\"sgd\"\n",
       "    lr=0.005\n",
       "    device=\"cpu\"\n",
       "    seed=42\n",
       "    skip_threshold=0.9\n",
       "    window_size=250\n",
       "  )\n",
       ")"
      ]
     },
     "execution_count": 3,
     "metadata": {},
     "output_type": "execute_result"
    }
   ],
   "source": [
    "dataset = datasets.CreditCard().take(5000)\n",
    "metric = metrics.RollingROCAUC(window_size=5000)\n",
    "class MyAutoEncoder(nn.Module):\n",
    "    def __init__(self, n_features, latent_dim=3):\n",
    "        super(MyAutoEncoder, self).__init__()\n",
    "        self.linear1 = nn.Linear(n_features, latent_dim)\n",
    "        self.nonlin = nn.LeakyReLU()\n",
    "        self.linear2 = nn.Linear(latent_dim, n_features)\n",
    "        self.sigmoid = nn.Sigmoid()\n",
    "\n",
    "    def forward(self, X, **kwargs):\n",
    "        X = self.linear1(X)\n",
    "        X = self.nonlin(X)\n",
    "        X = self.linear2(X)\n",
    "        return self.sigmoid(X)\n",
    "\n",
    "\n",
    "model_pipeline = compose.Pipeline(\n",
    "    preprocessing.MinMaxScaler(), \n",
    "    ProbabilityWeightedAutoencoder(module=MyAutoEncoder(30), lr=0.005)\n",
    ")\n",
    "model_pipeline"
   ]
  },
  {
   "cell_type": "markdown",
   "metadata": {},
   "source": [
    "## Run the Datastream\n",
    "This block performs hyperparameter optimization by evaluating the impact of different latent dimensions on the model's performance. It iterates over a predefined set of `latent_dim` values, initializing a fresh dataset and rolling ROC AUC metric for each experiment. A pipeline is created for each latent dimension, consisting of a `MinMaxScaler` for normalization and an autoencoder trained using online learning. The model is then trained and evaluated sequentially on the dataset, updating the metric with its predictions. After processing all data points, the final ROC AUC score is recorded for the current latent dimension. Once all experiments are completed, the results are stored in a DataFrame and visualized using a line plot, where the x-axis represents the latent dimension values and the y-axis represents the corresponding ROC AUC scores. This visualization helps identify the optimal latent dimension for anomaly detection."
   ]
  },
  {
   "cell_type": "code",
   "execution_count": 4,
   "metadata": {
    "execution": {
     "iopub.execute_input": "2025-03-29T09:33:54.535880Z",
     "iopub.status.busy": "2025-03-29T09:33:54.535549Z",
     "iopub.status.idle": "2025-03-29T09:33:59.097668Z",
     "shell.execute_reply": "2025-03-29T09:33:59.096919Z"
    }
   },
   "outputs": [
    {
     "name": "stdout",
     "output_type": "stream",
     "text": [
      "ROCAUC: 0.8530\n"
     ]
    }
   ],
   "source": [
    "for x, y in dataset:\n",
    "    score = model_pipeline.score_one(x)\n",
    "    metric.update(y_true=y, y_pred=score)\n",
    "    model_pipeline.learn_one(x=x)\n",
    "print(f\"ROCAUC: {metric.get():.4f}\")"
   ]
  },
  {
   "cell_type": "markdown",
   "metadata": {},
   "source": [
    "## Hyperparameter Optimization\n",
    "This block processes the dataset sequentially, evaluating and updating the model in an online learning manner. For each data point, the model generates an anomaly score using `score_one(x)`, which is then used to update the rolling ROC AUC metric by comparing it to the true label `y`. After scoring, the model is trained incrementally using `learn_one(x)`, allowing it to adapt continuously as new data arrives. Once all data points have been processed, the final ROC AUC score is printed, providing a performance measure of the model's ability to distinguish between fraudulent and non-fraudulent transactions."
   ]
  },
  {
   "cell_type": "code",
   "execution_count": 5,
   "metadata": {
    "execution": {
     "iopub.execute_input": "2025-03-29T09:33:59.101318Z",
     "iopub.status.busy": "2025-03-29T09:33:59.100976Z",
     "iopub.status.idle": "2025-03-29T09:33:59.105324Z",
     "shell.execute_reply": "2025-03-29T09:33:59.104447Z"
    }
   },
   "outputs": [],
   "source": [
    "latent_dims = [2, 5, 10, 20, 30, 40]  # You can adjust this range\n",
    "results = []"
   ]
  },
  {
   "cell_type": "code",
   "execution_count": 6,
   "metadata": {
    "execution": {
     "iopub.execute_input": "2025-03-29T09:33:59.108369Z",
     "iopub.status.busy": "2025-03-29T09:33:59.107888Z",
     "iopub.status.idle": "2025-03-29T09:34:29.264531Z",
     "shell.execute_reply": "2025-03-29T09:34:29.263529Z"
    }
   },
   "outputs": [
    {
     "name": "stderr",
     "output_type": "stream",
     "text": [
      "/Users/cedrickulbach/Documents/Projects/deep-river/deep_river/anomaly/probability_weighted_ae.py:201: UserWarning: This is deprecated and will be removed in future releases. Please instead use the AutoencoderInitialized class and initialize the module beforehand\n",
      "  warnings.warn(\n"
     ]
    },
    {
     "data": {
      "image/png": "[encoded data removed]",
      "text/plain": [
       "<Figure size 800x500 with 1 Axes>"
      ]
     },
     "metadata": {},
     "output_type": "display_data"
    }
   ],
   "source": [
    "for latent_dim in latent_dims:\n",
    "    # Initialize a fresh metric\n",
    "    dataset = datasets.CreditCard().take(5000)\n",
    "    metric = metrics.RollingROCAUC(window_size=5000)\n",
    "\n",
    "    # Initialize pipeline with current latent_dim\n",
    "    model_pipeline = compose.Pipeline(\n",
    "        preprocessing.MinMaxScaler(),\n",
    "        ProbabilityWeightedAutoencoder(module=MyAutoEncoder(30, latent_dim), lr=0.005)\n",
    "    )\n",
    "\n",
    "    # Train and evaluate model\n",
    "    for x, y in dataset:\n",
    "        score = model_pipeline.score_one(x)\n",
    "        metric.update(y_true=y, y_pred=score)\n",
    "        model_pipeline.learn_one(x=x)\n",
    "\n",
    "    # Store the result\n",
    "    results.append((latent_dim, metric.get()))\n",
    "\n",
    "# Convert results to DataFrame for visualization\n",
    "df_results = pd.DataFrame(results, columns=[\"latent_dim\", \"ROCAUC\"])\n",
    "\n",
    "# Plot results\n",
    "plt.figure(figsize=(8, 5))\n",
    "plt.plot(df_results[\"latent_dim\"], df_results[\"ROCAUC\"], marker=\"o\", linestyle=\"-\", color=\"b\")\n",
    "plt.xlabel(\"Latent Dimension\")\n",
    "plt.ylabel(\"ROCAUC Score\")\n",
    "plt.title(\"Hyperparameter Optimization: Latent Dimension vs. ROCAUC\")\n",
    "plt.grid(True)\n",
    "plt.show()"
   ]
  },
  {
   "cell_type": "code",
   "execution_count": null,
   "metadata": {},
   "outputs": [],
   "source": []
  }
 ],
 "metadata": {
  "kernelspec": {
   "display_name": "deep-river",
   "language": "python",
   "name": "python3"
  },
  "language_info": {
   "codemirror_mode": {
    "name": "ipython",
    "version": 3
   },
   "file_extension": ".py",
   "mimetype": "text/x-python",
   "name": "python",
   "nbconvert_exporter": "python",
   "pygments_lexer": "ipython3",
   "version": "3.10.11"
  }
 },
 "nbformat": 4,
 "nbformat_minor": 1
}
